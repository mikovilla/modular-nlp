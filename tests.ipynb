{
 "cells": [
  {
   "cell_type": "code",
   "execution_count": 1,
   "id": "0b512c49-f8ba-41bf-9387-32622a4600ac",
   "metadata": {},
   "outputs": [
    {
     "name": "stdout",
     "output_type": "stream",
     "text": [
      "PASSED\n"
     ]
    }
   ],
   "source": [
    "import torch\n",
    "from src.config import SharedConfig\n",
    "\n",
    "modelName = \"bert-base-multilingual-cased\"\n",
    "hasGPU = True\n",
    "\n",
    "print((\"PASSED\") if (SharedConfig.USE_FP16 == torch.cuda.is_available()) == hasGPU else (\"FAILED\"))"
   ]
  },
  {
   "cell_type": "code",
   "execution_count": 2,
   "id": "832154d9-e270-4e49-a437-0ec5dec4b19f",
   "metadata": {},
   "outputs": [
    {
     "name": "stderr",
     "output_type": "stream",
     "text": [
      "/home/miko/miniconda/envs/mv_nlp/lib/python3.12/site-packages/tqdm/auto.py:21: TqdmWarning: IProgress not found. Please update jupyter and ipywidgets. See https://ipywidgets.readthedocs.io/en/stable/user_install.html\n",
      "  from .autonotebook import tqdm as notebook_tqdm\n"
     ]
    },
    {
     "name": "stdout",
     "output_type": "stream",
     "text": [
      "Ang ganda ng araw ngayon! is POSITIVE: PASSED\n",
      "Pangit ang serbisyo sa tindahan. is NEGATIVE: PASSED\n",
      "Umuulan buong araw. is NEUTRAL: PASSED\n"
     ]
    }
   ],
   "source": [
    "import pandas as pd\n",
    "from src import utility\n",
    "\n",
    "POSITIVE = 2\n",
    "NEUTRAL = 1\n",
    "NEGATIVE = 0\n",
    "\n",
    "df = pd.read_csv(\"miko.csv\")\n",
    "label2id, id2label, y = utility.build_label_maps(df[\"label\"])\n",
    "# print(label2id)\n",
    "# print(id2label)\n",
    "# print(y)\n",
    "\n",
    "# Assert\n",
    "print(f\"{df.loc[0, \"text\"]} is POSITIVE: {(\"PASSED\") if y.iloc[0] == POSITIVE else (\"FAILED\")}\")\n",
    "print(f\"{df.loc[10, \"text\"]} is NEGATIVE: {(\"PASSED\") if y.iloc[10] == NEGATIVE else (\"FAILED\")}\")\n",
    "print(f\"{df.loc[20, \"text\"]} is NEUTRAL: {(\"PASSED\") if y.iloc[20] == NEUTRAL else (\"FAILED\")}\")"
   ]
  },
  {
   "cell_type": "code",
   "execution_count": 3,
   "id": "f872e505-4acd-43da-9a74-c2610d59662c",
   "metadata": {},
   "outputs": [
    {
     "ename": "AttributeError",
     "evalue": "module 'src.utility' has no attribute 'compute_metrics'",
     "output_type": "error",
     "traceback": [
      "\u001b[31m---------------------------------------------------------------------------\u001b[39m",
      "\u001b[31mAttributeError\u001b[39m                            Traceback (most recent call last)",
      "\u001b[36mCell\u001b[39m\u001b[36m \u001b[39m\u001b[32mIn[3]\u001b[39m\u001b[32m, line 13\u001b[39m\n\u001b[32m      5\u001b[39m logits = np.array([\n\u001b[32m      6\u001b[39m     [\u001b[32m2.0\u001b[39m, \u001b[32m1.0\u001b[39m, \u001b[32m0.1\u001b[39m],   \u001b[38;5;66;03m# predicts class 0\u001b[39;00m\n\u001b[32m      7\u001b[39m     [\u001b[32m0.1\u001b[39m, \u001b[32m2.5\u001b[39m, \u001b[32m0.3\u001b[39m],   \u001b[38;5;66;03m# predicts class 1\u001b[39;00m\n\u001b[32m   (...)\u001b[39m\u001b[32m     10\u001b[39m     [\u001b[32m0.3\u001b[39m, \u001b[32m0.4\u001b[39m, \u001b[32m1.9\u001b[39m],   \u001b[38;5;66;03m# predicts class 2\u001b[39;00m\n\u001b[32m     11\u001b[39m ])\n\u001b[32m     12\u001b[39m labels = np.array([\u001b[32m0\u001b[39m, \u001b[32m1\u001b[39m, \u001b[32m2\u001b[39m, \u001b[32m1\u001b[39m, \u001b[32m2\u001b[39m])  \u001b[38;5;66;03m# true labels\u001b[39;00m\n\u001b[32m---> \u001b[39m\u001b[32m13\u001b[39m metrics = \u001b[43mutility\u001b[49m\u001b[43m.\u001b[49m\u001b[43mcompute_metrics\u001b[49m((logits, labels))\n\u001b[32m     14\u001b[39m \u001b[38;5;66;03m# print(metrics)\u001b[39;00m\n\u001b[32m     16\u001b[39m \u001b[38;5;28mprint\u001b[39m((\u001b[33m\"\u001b[39m\u001b[33mPASSED\u001b[39m\u001b[33m\"\u001b[39m) \u001b[38;5;28;01mif\u001b[39;00m metrics[\u001b[33m\"\u001b[39m\u001b[33maccuracy\u001b[39m\u001b[33m\"\u001b[39m] == \u001b[32m0.8\u001b[39m \u001b[38;5;28;01melse\u001b[39;00m (\u001b[33m\"\u001b[39m\u001b[33mFAILED\u001b[39m\u001b[33m\"\u001b[39m))\n",
      "\u001b[31mAttributeError\u001b[39m: module 'src.utility' has no attribute 'compute_metrics'"
     ]
    }
   ],
   "source": [
    "import numpy as np\n",
    "from src import metrics\n",
    "\n",
    "# Example: 5 samples, 3 classes\n",
    "logits = np.array([\n",
    "    [2.0, 1.0, 0.1],   # predicts class 0\n",
    "    [0.1, 2.5, 0.3],   # predicts class 1\n",
    "    [0.2, 0.1, 3.0],   # predicts class 2\n",
    "    [1.5, 0.9, 0.2],   # predicts class 0\n",
    "    [0.3, 0.4, 1.9],   # predicts class 2\n",
    "])\n",
    "labels = np.array([0, 1, 2, 1, 2])  # true labels\n",
    "metrics = metrics.compute_metrics((logits, labels))\n",
    "# print(metrics)\n",
    "\n",
    "print((\"PASSED\") if metrics[\"accuracy\"] == 0.8 else (\"FAILED\"))"
   ]
  },
  {
   "cell_type": "code",
   "execution_count": null,
   "id": "cbc9ee0e-b704-40a8-acc9-9a75ecd4d44c",
   "metadata": {},
   "outputs": [],
   "source": [
    "from src import utility\n",
    "\n",
    "train_ds, val_ds, test_ds, label2id, id2label = utility.load_split_dataset(\"miko.csv\")\n",
    "print(f\"{(\"PASSED\") if train_ds.num_rows > 0 else (\"FAILED\")}\")"
   ]
  },
  {
   "cell_type": "code",
   "execution_count": null,
   "id": "1679d99e-dc9e-4eba-abc1-6430739012cd",
   "metadata": {},
   "outputs": [],
   "source": []
  }
 ],
 "metadata": {
  "kernelspec": {
   "display_name": "Python 3 (ipykernel)",
   "language": "python",
   "name": "python3"
  },
  "language_info": {
   "codemirror_mode": {
    "name": "ipython",
    "version": 3
   },
   "file_extension": ".py",
   "mimetype": "text/x-python",
   "name": "python",
   "nbconvert_exporter": "python",
   "pygments_lexer": "ipython3",
   "version": "3.12.11"
  }
 },
 "nbformat": 4,
 "nbformat_minor": 5
}
