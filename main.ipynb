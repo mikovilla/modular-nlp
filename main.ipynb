{
 "cells": [
  {
   "cell_type": "code",
   "execution_count": 1,
   "id": "5112e5a6-b2ea-4f21-8cbf-764c7e1cff16",
   "metadata": {},
   "outputs": [
    {
     "name": "stderr",
     "output_type": "stream",
     "text": [
      "/home/miko/miniconda/envs/checkreq/lib/python3.12/site-packages/tqdm/auto.py:21: TqdmWarning: IProgress not found. Please update jupyter and ipywidgets. See https://ipywidgets.readthedocs.io/en/stable/user_install.html\n",
      "  from .autonotebook import tqdm as notebook_tqdm\n",
      "Device set to use cuda:0\n"
     ]
    },
    {
     "name": "stdout",
     "output_type": "stream",
     "text": [
      "[INFO] Loaded 100 rows\n"
     ]
    },
    {
     "name": "stderr",
     "output_type": "stream",
     "text": [
      "Processing: 100%|███████████████████████████████████████████████████████████████████████████████| 2/2 [00:00<00:00, 6737.84it/s]\n",
      "Map: 100%|████████████████████████████████████████████████████████████████████████████| 69/69 [00:00<00:00, 18455.90 examples/s]\n",
      "Map: 100%|█████████████████████████████████████████████████████████████████████████████| 10/10 [00:00<00:00, 4796.23 examples/s]\n",
      "Map: 100%|█████████████████████████████████████████████████████████████████████████████| 21/21 [00:00<00:00, 5839.33 examples/s]\n"
     ]
    },
    {
     "data": {
      "text/html": [
       "\n",
       "    <div>\n",
       "      \n",
       "      <progress value='45' max='45' style='width:300px; height:20px; vertical-align: middle;'></progress>\n",
       "      [45/45 00:57, Epoch 5/5]\n",
       "    </div>\n",
       "    <table border=\"1\" class=\"dataframe\">\n",
       "  <thead>\n",
       " <tr style=\"text-align: left;\">\n",
       "      <th>Epoch</th>\n",
       "      <th>Training Loss</th>\n",
       "      <th>Validation Loss</th>\n",
       "      <th>Accuracy</th>\n",
       "      <th>F1 Macro</th>\n",
       "      <th>Precision Macro</th>\n",
       "      <th>Recall Macro</th>\n",
       "    </tr>\n",
       "  </thead>\n",
       "  <tbody>\n",
       "    <tr>\n",
       "      <td>1</td>\n",
       "      <td>0.210100</td>\n",
       "      <td>1.093187</td>\n",
       "      <td>0.600000</td>\n",
       "      <td>0.583333</td>\n",
       "      <td>0.583333</td>\n",
       "      <td>0.583333</td>\n",
       "    </tr>\n",
       "    <tr>\n",
       "      <td>2</td>\n",
       "      <td>0.146500</td>\n",
       "      <td>1.089441</td>\n",
       "      <td>0.500000</td>\n",
       "      <td>0.507937</td>\n",
       "      <td>0.527778</td>\n",
       "      <td>0.500000</td>\n",
       "    </tr>\n",
       "    <tr>\n",
       "      <td>3</td>\n",
       "      <td>0.068100</td>\n",
       "      <td>1.201427</td>\n",
       "      <td>0.700000</td>\n",
       "      <td>0.669048</td>\n",
       "      <td>0.666667</td>\n",
       "      <td>0.694444</td>\n",
       "    </tr>\n",
       "    <tr>\n",
       "      <td>4</td>\n",
       "      <td>0.045000</td>\n",
       "      <td>1.357851</td>\n",
       "      <td>0.700000</td>\n",
       "      <td>0.669048</td>\n",
       "      <td>0.666667</td>\n",
       "      <td>0.694444</td>\n",
       "    </tr>\n",
       "    <tr>\n",
       "      <td>5</td>\n",
       "      <td>0.012900</td>\n",
       "      <td>1.572276</td>\n",
       "      <td>0.600000</td>\n",
       "      <td>0.587302</td>\n",
       "      <td>0.583333</td>\n",
       "      <td>0.611111</td>\n",
       "    </tr>\n",
       "  </tbody>\n",
       "</table><p>"
      ],
      "text/plain": [
       "<IPython.core.display.HTML object>"
      ]
     },
     "metadata": {},
     "output_type": "display_data"
    },
    {
     "data": {
      "text/html": [
       "\n",
       "    <div>\n",
       "      \n",
       "      <progress value='2' max='2' style='width:300px; height:20px; vertical-align: middle;'></progress>\n",
       "      [2/2 00:00]\n",
       "    </div>\n",
       "    "
      ],
      "text/plain": [
       "<IPython.core.display.HTML object>"
      ]
     },
     "metadata": {},
     "output_type": "display_data"
    },
    {
     "name": "stdout",
     "output_type": "stream",
     "text": [
      "\n",
      "### STATE-SPACES/MAMBA-130M-HF EVALUATION METRICS ###\n",
      "{'epoch': 5.0,\n",
      " 'eval_accuracy': 0.7,\n",
      " 'eval_f1_macro': 0.669047619047619,\n",
      " 'eval_loss': 1.2014269828796387,\n",
      " 'eval_precision_macro': 0.6666666666666666,\n",
      " 'eval_recall_macro': 0.6944444444444443,\n",
      " 'eval_runtime': 0.2091,\n",
      " 'eval_samples_per_second': 47.815,\n",
      " 'eval_steps_per_second': 9.563}\n"
     ]
    }
   ],
   "source": [
    "# Generic: A Modular Multi-Pipeline Framework for Probability Fusion Ensembles\n",
    "# Specific: Cross-Lingual Sentiment Analysis with Probability Fusion Ensembles: A Modular Multi-Pipeline Framework for Low-Resource Languages\n",
    "\n",
    "import os\n",
    "import pandas as pd\n",
    "import pprint\n",
    "\n",
    "from pathlib import Path\n",
    "from transformers import pipeline\n",
    "\n",
    "from src import sentiment, helper, utility, context\n",
    "from src.config import *\n",
    "from src.metrics import evaluate_pipe\n",
    "\n",
    "os.environ[\"MAMBA_USE_MAMBAPY\"] = MambaBackend.FORCE_CUDA\n",
    "os.environ[\"TOKENIZERS_PARALLELISM\"] = \"false\"\n",
    "helper.list_config()\n",
    "\n",
    "#mbert_context = context.setup_pipeline(MBertConfig, require_translation = False)\n",
    "#mbert_trainer = sentiment.train(mbert_context)\n",
    "\n",
    "mamba_context = context.setup_pipeline(MambaConfig, require_translation = True)\n",
    "mamba_trainer = sentiment.train(mamba_context)\n",
    "\n",
    "# TBA: FUSION #\n",
    "\n",
    "if AppConfig.INFER_SAMPLE:\n",
    "    sample_texts = [\n",
    "        \"Maganda ang serbisyo at mabilis ang delivery!\"\n",
    "        \"Sobrang pangit ng karanasan ko.\",\n",
    "        \"It was okay, nothing special.\",\n",
    "    ]\n",
    "    #sentiment.infer(sample_texts, mbert_trainer.tokenizer, mbert_trainer.model)\n"
   ]
  },
  {
   "cell_type": "code",
   "execution_count": null,
   "id": "ec23443d-d1ea-4fbf-881c-c19bac11fdf7",
   "metadata": {},
   "outputs": [],
   "source": []
  }
 ],
 "metadata": {
  "kernelspec": {
   "display_name": "Python 3 (ipykernel)",
   "language": "python",
   "name": "python3"
  },
  "language_info": {
   "codemirror_mode": {
    "name": "ipython",
    "version": 3
   },
   "file_extension": ".py",
   "mimetype": "text/x-python",
   "name": "python",
   "nbconvert_exporter": "python",
   "pygments_lexer": "ipython3",
   "version": "3.12.11"
  }
 },
 "nbformat": 4,
 "nbformat_minor": 5
}
