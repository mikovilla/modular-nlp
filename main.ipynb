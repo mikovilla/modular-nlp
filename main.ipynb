{
 "cells": [
  {
   "cell_type": "code",
   "execution_count": 1,
   "id": "5112e5a6-b2ea-4f21-8cbf-764c7e1cff16",
   "metadata": {},
   "outputs": [
    {
     "name": "stderr",
     "output_type": "stream",
     "text": [
      "Some weights of BertForSequenceClassification were not initialized from the model checkpoint at bert-base-multilingual-cased and are newly initialized: ['classifier.bias', 'classifier.weight']\n",
      "You should probably TRAIN this model on a down-stream task to be able to use it for predictions and inference.\n"
     ]
    },
    {
     "data": {
      "application/vnd.jupyter.widget-view+json": {
       "model_id": "5b8f5da4ca8a4f7aaa6f97f50d97cded",
       "version_major": 2,
       "version_minor": 0
      },
      "text/plain": [
       "Map:   0%|          | 0/69 [00:00<?, ? examples/s]"
      ]
     },
     "metadata": {},
     "output_type": "display_data"
    },
    {
     "data": {
      "application/vnd.jupyter.widget-view+json": {
       "model_id": "3035d3c5589443a8acf6ae6fa6d8eb38",
       "version_major": 2,
       "version_minor": 0
      },
      "text/plain": [
       "Map:   0%|          | 0/10 [00:00<?, ? examples/s]"
      ]
     },
     "metadata": {},
     "output_type": "display_data"
    },
    {
     "data": {
      "application/vnd.jupyter.widget-view+json": {
       "model_id": "e78ec1699a5345b78a7ba5c76d08e8b0",
       "version_major": 2,
       "version_minor": 0
      },
      "text/plain": [
       "Map:   0%|          | 0/21 [00:00<?, ? examples/s]"
      ]
     },
     "metadata": {},
     "output_type": "display_data"
    },
    {
     "name": "stdout",
     "output_type": "stream",
     "text": [
      "[DBG-LIVE] epoch_start=0 global_step=0 wrapped=AcceleratedOptimizer base=AdamW lr=2e-05 id=137166034970448\n"
     ]
    },
    {
     "data": {
      "text/html": [
       "\n",
       "    <div>\n",
       "      \n",
       "      <progress value='45' max='45' style='width:300px; height:20px; vertical-align: middle;'></progress>\n",
       "      [45/45 01:11, Epoch 5/5]\n",
       "    </div>\n",
       "    <table border=\"1\" class=\"dataframe\">\n",
       "  <thead>\n",
       " <tr style=\"text-align: left;\">\n",
       "      <th>Epoch</th>\n",
       "      <th>Training Loss</th>\n",
       "      <th>Validation Loss</th>\n",
       "      <th>Accuracy</th>\n",
       "      <th>F1 Macro</th>\n",
       "      <th>Precision Macro</th>\n",
       "      <th>Recall Macro</th>\n",
       "    </tr>\n",
       "  </thead>\n",
       "  <tbody>\n",
       "    <tr>\n",
       "      <td>1</td>\n",
       "      <td>No log</td>\n",
       "      <td>1.068900</td>\n",
       "      <td>0.400000</td>\n",
       "      <td>0.411111</td>\n",
       "      <td>0.595238</td>\n",
       "      <td>0.416667</td>\n",
       "    </tr>\n",
       "    <tr>\n",
       "      <td>2</td>\n",
       "      <td>No log</td>\n",
       "      <td>1.020281</td>\n",
       "      <td>0.600000</td>\n",
       "      <td>0.611111</td>\n",
       "      <td>0.633333</td>\n",
       "      <td>0.638889</td>\n",
       "    </tr>\n",
       "    <tr>\n",
       "      <td>3</td>\n",
       "      <td>No log</td>\n",
       "      <td>0.990541</td>\n",
       "      <td>0.500000</td>\n",
       "      <td>0.525926</td>\n",
       "      <td>0.611111</td>\n",
       "      <td>0.527778</td>\n",
       "    </tr>\n",
       "    <tr>\n",
       "      <td>4</td>\n",
       "      <td>No log</td>\n",
       "      <td>0.824276</td>\n",
       "      <td>0.600000</td>\n",
       "      <td>0.611111</td>\n",
       "      <td>0.633333</td>\n",
       "      <td>0.638889</td>\n",
       "    </tr>\n",
       "    <tr>\n",
       "      <td>5</td>\n",
       "      <td>No log</td>\n",
       "      <td>0.709365</td>\n",
       "      <td>0.700000</td>\n",
       "      <td>0.688889</td>\n",
       "      <td>0.833333</td>\n",
       "      <td>0.750000</td>\n",
       "    </tr>\n",
       "  </tbody>\n",
       "</table><p>"
      ],
      "text/plain": [
       "<IPython.core.display.HTML object>"
      ]
     },
     "metadata": {},
     "output_type": "display_data"
    },
    {
     "name": "stdout",
     "output_type": "stream",
     "text": [
      "[DBG-LIVE] epoch_start=1.0 global_step=9 wrapped=AcceleratedOptimizer base=AdamW lr=2e-05 id=137166034970448\n",
      "Switching optimizer to SGD right after epoch 2 (next epoch will print SGD in your debug)\n",
      "[SWITCHED] base=SGD lr=0.003\n",
      "[DBG-LIVE] epoch_start=2.0 global_step=18 wrapped=AcceleratedOptimizer base=SGD lr=0.003 id=137166035055296\n",
      "[DBG-LIVE] epoch_start=3.0 global_step=27 wrapped=AcceleratedOptimizer base=SGD lr=0.003 id=137166035055296\n",
      "[DBG-LIVE] epoch_start=4.0 global_step=36 wrapped=AcceleratedOptimizer base=SGD lr=0.003 id=137166035055296\n"
     ]
    },
    {
     "data": {
      "text/html": [
       "\n",
       "    <div>\n",
       "      \n",
       "      <progress value='3' max='3' style='width:300px; height:20px; vertical-align: middle;'></progress>\n",
       "      [3/3 00:00]\n",
       "    </div>\n",
       "    "
      ],
      "text/plain": [
       "<IPython.core.display.HTML object>"
      ]
     },
     "metadata": {},
     "output_type": "display_data"
    },
    {
     "name": "stdout",
     "output_type": "stream",
     "text": [
      "\n",
      "### BERT-BASE-MULTILINGUAL-CASED EVALUATION METRICS ###\n",
      "{'epoch': 5.0,\n",
      " 'eval_accuracy': 0.5714285714285714,\n",
      " 'eval_f1_macro': 0.5873015873015873,\n",
      " 'eval_loss': 1.014456033706665,\n",
      " 'eval_precision_macro': 0.6111111111111112,\n",
      " 'eval_recall_macro': 0.611111111111111,\n",
      " 'eval_runtime': 0.2705,\n",
      " 'eval_samples_per_second': 77.627,\n",
      " 'eval_steps_per_second': 11.09}\n"
     ]
    }
   ],
   "source": [
    "# Generic: A Modular Multi-Pipeline Framework for Probability Fusion Ensembles\n",
    "# Specific: Cross-Lingual Sentiment Analysis with Probability Fusion Ensembles: A Modular Multi-Pipeline Framework for Low-Resource Languages\n",
    "\n",
    "import os\n",
    "import pandas as pd\n",
    "import pprint\n",
    "\n",
    "from pathlib import Path\n",
    "from transformers import pipeline\n",
    "\n",
    "from src import sentiment, helper, utility, context\n",
    "from src.config import *\n",
    "from src.metrics import evaluate_pipe\n",
    "\n",
    "os.environ[\"TOKENIZERS_PARALLELISM\"] = \"false\"\n",
    "helper.list_config()\n",
    "\n",
    "mbert_context = context.setup_pipeline(MBertConfig, require_translation = False)\n",
    "mbert_trainer = sentiment.train(mbert_context)\n",
    "\n",
    "#mamba_context = context.setup_pipeline(MambaConfig, require_translation = True)\n",
    "#mamba_trainer = sentiment.train(mamba_context)\n",
    "\n",
    "# TBA: FUSION #\n",
    "\n",
    "if AppConfig.INFER_SAMPLE:\n",
    "    sample_texts = [\n",
    "        \"Maganda ang serbisyo at mabilis ang delivery!\"\n",
    "        \"Sobrang pangit ng karanasan ko.\",\n",
    "        \"It was okay, nothing special.\",\n",
    "    ]\n",
    "    #sentiment.infer(sample_texts, mbert_trainer.tokenizer, mbert_trainer.model)\n"
   ]
  },
  {
   "cell_type": "code",
   "execution_count": null,
   "id": "4a7a1294-52f8-4873-9763-d2ad352c2652",
   "metadata": {},
   "outputs": [],
   "source": []
  }
 ],
 "metadata": {
  "kernelspec": {
   "display_name": "Python 3 (ipykernel)",
   "language": "python",
   "name": "python3"
  },
  "language_info": {
   "codemirror_mode": {
    "name": "ipython",
    "version": 3
   },
   "file_extension": ".py",
   "mimetype": "text/x-python",
   "name": "python",
   "nbconvert_exporter": "python",
   "pygments_lexer": "ipython3",
   "version": "3.12.11"
  }
 },
 "nbformat": 4,
 "nbformat_minor": 5
}
