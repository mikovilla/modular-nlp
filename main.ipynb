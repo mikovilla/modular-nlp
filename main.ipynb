{
 "cells": [
  {
   "cell_type": "code",
   "execution_count": 1,
   "id": "5112e5a6-b2ea-4f21-8cbf-764c7e1cff16",
   "metadata": {},
   "outputs": [
    {
     "name": "stderr",
     "output_type": "stream",
     "text": [
      "/home/miko/miniconda/envs/mv_nlp/lib/python3.12/site-packages/tqdm/auto.py:21: TqdmWarning: IProgress not found. Please update jupyter and ipywidgets. See https://ipywidgets.readthedocs.io/en/stable/user_install.html\n",
      "  from .autonotebook import tqdm as notebook_tqdm\n",
      "/home/miko/miniconda/envs/mv_nlp/lib/python3.12/site-packages/transformers/tokenization_utils_base.py:1601: FutureWarning: `clean_up_tokenization_spaces` was not set. It will be set to `True` by default. This behavior will be depracted in transformers v4.45, and will be then set to `False` by default. For more details check this issue: https://github.com/huggingface/transformers/issues/31884\n",
      "  warnings.warn(\n",
      "Map: 100%|████████████████████████████████████████████████████████████████████| 69/69 [00:00<00:00, 14922.50 examples/s]\n",
      "Map: 100%|█████████████████████████████████████████████████████████████████████| 10/10 [00:00<00:00, 2866.72 examples/s]\n",
      "Map: 100%|█████████████████████████████████████████████████████████████████████| 21/21 [00:00<00:00, 7048.12 examples/s]\n",
      "Some weights of BertForSequenceClassification were not initialized from the model checkpoint at bert-base-multilingual-cased and are newly initialized: ['classifier.bias', 'classifier.weight']\n",
      "You should probably TRAIN this model on a down-stream task to be able to use it for predictions and inference.\n",
      "/home/miko/miniconda/envs/mv_nlp/lib/python3.12/site-packages/accelerate/accelerator.py:479: FutureWarning: `torch.cuda.amp.GradScaler(args...)` is deprecated. Please use `torch.amp.GradScaler('cuda', args...)` instead.\n",
      "  self.scaler = torch.cuda.amp.GradScaler(**kwargs)\n"
     ]
    },
    {
     "data": {
      "text/html": [
       "\n",
       "    <div>\n",
       "      \n",
       "      <progress value='2' max='2' style='width:300px; height:20px; vertical-align: middle;'></progress>\n",
       "      [2/2 00:38, Epoch 1/1]\n",
       "    </div>\n",
       "    <table border=\"1\" class=\"dataframe\">\n",
       "  <thead>\n",
       " <tr style=\"text-align: left;\">\n",
       "      <th>Epoch</th>\n",
       "      <th>Training Loss</th>\n",
       "      <th>Validation Loss</th>\n",
       "      <th>Accuracy</th>\n",
       "      <th>F1 Macro</th>\n",
       "      <th>Precision Macro</th>\n",
       "      <th>Recall Macro</th>\n",
       "    </tr>\n",
       "  </thead>\n",
       "  <tbody>\n",
       "    <tr>\n",
       "      <td>1</td>\n",
       "      <td>No log</td>\n",
       "      <td>1.092475</td>\n",
       "      <td>0.200000</td>\n",
       "      <td>0.169312</td>\n",
       "      <td>0.166667</td>\n",
       "      <td>0.194444</td>\n",
       "    </tr>\n",
       "  </tbody>\n",
       "</table><p>"
      ],
      "text/plain": [
       "<IPython.core.display.HTML object>"
      ]
     },
     "metadata": {},
     "output_type": "display_data"
    },
    {
     "data": {
      "text/html": [
       "\n",
       "    <div>\n",
       "      \n",
       "      <progress value='1' max='1' style='width:300px; height:20px; vertical-align: middle;'></progress>\n",
       "      [1/1 : < :]\n",
       "    </div>\n",
       "    "
      ],
      "text/plain": [
       "<IPython.core.display.HTML object>"
      ]
     },
     "metadata": {},
     "output_type": "display_data"
    },
    {
     "name": "stdout",
     "output_type": "stream",
     "text": [
      "Test metrics: {'eval_loss': 1.0948747396469116, 'eval_accuracy': 0.47619047619047616, 'eval_f1_macro': 0.4423280423280423, 'eval_precision_macro': 0.4351851851851852, 'eval_recall_macro': 0.46296296296296297, 'eval_runtime': 0.0861, 'eval_samples_per_second': 243.941, 'eval_steps_per_second': 11.616, 'epoch': 1.0}\n"
     ]
    },
    {
     "name": "stderr",
     "output_type": "stream",
     "text": [
      "Hardware accelerator e.g. GPU is available in the environment, but no `device` argument is passed to the `Pipeline` object. Model will be on CPU.\n"
     ]
    },
    {
     "name": "stdout",
     "output_type": "stream",
     "text": [
      "\n",
      "Metrics:\n",
      "\n",
      "{'accuracy': 0.47619047619047616, 'f1_macro': 0.4423280423280423, 'report': '              precision    recall  f1-score   support\\n\\n           0      0.250     0.167     0.200         6\\n           1      0.500     0.667     0.571         6\\n           2      0.556     0.556     0.556         9\\n\\n    accuracy                          0.476        21\\n   macro avg      0.435     0.463     0.442        21\\nweighted avg      0.452     0.476     0.459        21\\n'}\n"
     ]
    },
    {
     "name": "stderr",
     "output_type": "stream",
     "text": [
      "/home/miko/miniconda/envs/mv_nlp/lib/python3.12/site-packages/transformers/pipelines/text_classification.py:104: UserWarning: `return_all_scores` is now deprecated,  if want a similar functionality use `top_k=None` instead of `return_all_scores=True` or `top_k=1` instead of `return_all_scores=False`.\n",
      "  warnings.warn(\n"
     ]
    }
   ],
   "source": [
    "import os\n",
    "from transformers import pipeline\n",
    "\n",
    "from src import sentiment, helper, utility\n",
    "from src.config import MBertConfig, SharedConfig\n",
    "from src.metrics import evaluate_pipe\n",
    "\n",
    "os.environ[\"TOKENIZERS_PARALLELISM\"] = \"false\"\n",
    "\n",
    "if __name__ == \"__main__\":\n",
    "    # helper.jsonToCSV(\"miko.json\", \"miko.csv\")\n",
    "    \n",
    "    csv_path = \"miko.csv\"\n",
    "    _, _, test_ds, _, _ = utility.load_split_dataset(csv_path)  # load again, un-mapped\n",
    "\n",
    "    texts = helper.to_list_str(test_ds[SharedConfig.TEXT_COL])\n",
    "    labels = list(test_ds[SharedConfig.LABEL_COL])\n",
    "    \n",
    "    mBertTrainer = sentiment.train(csv_path, MBertConfig)\n",
    "    mBertPipe = pipeline(\n",
    "        \"text-classification\", \n",
    "        model=mBertTrainer.model, \n",
    "        tokenizer=mBertTrainer.tokenizer, \n",
    "        return_all_scores=True,\n",
    "        device=0 if SharedConfig.USE_FP16 else -1\n",
    "    )\n",
    "    metrics = evaluate_pipe(mBertPipe, texts, labels, id2label=mBertTrainer.model.config.id2label)\n",
    "    print(\"\\r\\nMetrics:\\r\\n\")\n",
    "    print(metrics)\n",
    "    \n",
    "    #sample_texts = [\n",
    "    #    \"Maganda ang serbisyo at mabilis ang delivery!\",  # Tagalog positive\n",
    "    #    \"Sobrang pangit ng karanasan ko.\",                # Tagalog negative\n",
    "    #    \"It was okay, nothing special.\",                  # English neutral-ish\n",
    "    #]\n",
    "    #sentiment.infer(sample_texts, trainer.tokenizer, trainer.model)\n"
   ]
  },
  {
   "cell_type": "code",
   "execution_count": null,
   "id": "6544cd75-59d6-4c9d-a8a0-935a1ff294a1",
   "metadata": {},
   "outputs": [],
   "source": []
  },
  {
   "cell_type": "code",
   "execution_count": null,
   "id": "044709a0-b0c2-49a3-8e37-40f8b771180e",
   "metadata": {},
   "outputs": [],
   "source": []
  }
 ],
 "metadata": {
  "kernelspec": {
   "display_name": "Python 3 (ipykernel)",
   "language": "python",
   "name": "python3"
  },
  "language_info": {
   "codemirror_mode": {
    "name": "ipython",
    "version": 3
   },
   "file_extension": ".py",
   "mimetype": "text/x-python",
   "name": "python",
   "nbconvert_exporter": "python",
   "pygments_lexer": "ipython3",
   "version": "3.12.11"
  }
 },
 "nbformat": 4,
 "nbformat_minor": 5
}
