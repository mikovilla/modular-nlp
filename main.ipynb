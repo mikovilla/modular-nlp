{
 "cells": [
  {
   "cell_type": "code",
   "execution_count": 1,
   "id": "5112e5a6-b2ea-4f21-8cbf-764c7e1cff16",
   "metadata": {},
   "outputs": [
    {
     "name": "stdout",
     "output_type": "stream",
     "text": [
      "\n",
      "### SAMPLE PREDICTIONS ###\n",
      "[('Maganda ang serbisyo at mabilis ang delivery!', 1), ('Sobrang pangit ng karanasan ko.', 1), ('It was okay, nothing special.', 2)]\n",
      "\n",
      "### SAMPLE PREDICTIONS ###\n",
      "[('Maganda ang serbisyo at mabilis ang delivery!', 0), ('Sobrang pangit ng karanasan ko.', 1), ('It was okay, nothing special.', 2)]\n"
     ]
    }
   ],
   "source": [
    "# Generic: A Modular Multi-Pipeline Framework for Probability Fusion Ensembles\n",
    "# Specific: Cross-Lingual Sentiment Analysis with Probability Fusion Ensembles: A Modular Multi-Pipeline Framework for Low-Resource Languages\n",
    "\n",
    "import os\n",
    "import pandas as pd\n",
    "import pprint\n",
    "\n",
    "from pathlib import Path\n",
    "from transformers import pipeline\n",
    "\n",
    "from src import sentiment, helper, utility, context\n",
    "from src.config import *\n",
    "from src.metrics import evaluate_pipe\n",
    "\n",
    "os.environ[\"MAMBA_USE_MAMBAPY\"] = MambaBackend.FORCE_CUDA\n",
    "os.environ[\"TOKENIZERS_PARALLELISM\"] = \"false\"\n",
    "helper.list_config()\n",
    "\n",
    "if AppConfig.INFER:\n",
    "    sample_texts = [\n",
    "        \"Maganda ang serbisyo at mabilis ang delivery!\",\n",
    "        \"Sobrang pangit ng karanasan ko.\",\n",
    "        \"It was okay, nothing special.\",\n",
    "    ]\n",
    "    sentiment.infer(sample_texts, MambaConfig)\n",
    "    sentiment.infer(sample_texts, MBertConfig)\n",
    "else:\n",
    "    mbert_context = context.setup_pipeline(MBertConfig, require_translation = False)\n",
    "    mbert_trainer = sentiment.train(mbert_context)\n",
    "    \n",
    "    mamba_context = context.setup_pipeline(MambaConfig, require_translation = True)\n",
    "    mamba_trainer = sentiment.train(mamba_context)\n",
    "    \n",
    "    # TBA: FUSION #\n",
    "\n",
    "\n"
   ]
  },
  {
   "cell_type": "code",
   "execution_count": null,
   "id": "ec23443d-d1ea-4fbf-881c-c19bac11fdf7",
   "metadata": {},
   "outputs": [],
   "source": []
  }
 ],
 "metadata": {
  "kernelspec": {
   "display_name": "Python 3 (ipykernel)",
   "language": "python",
   "name": "python3"
  },
  "language_info": {
   "codemirror_mode": {
    "name": "ipython",
    "version": 3
   },
   "file_extension": ".py",
   "mimetype": "text/x-python",
   "name": "python",
   "nbconvert_exporter": "python",
   "pygments_lexer": "ipython3",
   "version": "3.12.11"
  }
 },
 "nbformat": 4,
 "nbformat_minor": 5
}
