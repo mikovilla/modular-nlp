{
 "cells": [
  {
   "cell_type": "code",
   "execution_count": 1,
   "id": "5112e5a6-b2ea-4f21-8cbf-764c7e1cff16",
   "metadata": {},
   "outputs": [
    {
     "name": "stdout",
     "output_type": "stream",
     "text": [
      "({'accuracy': 0.3, 'f1_macro': 0.15384615384615385, 'f1_micro': 0.3, 'nll': 1.0986121892929077}, array([0, 0, 0, 0, 0, 0, 0, 0, 0, 0]), array([[0.33333334, 0.33333334, 0.33333334],\n",
      "       [0.33333334, 0.33333334, 0.33333334],\n",
      "       [0.33333334, 0.33333334, 0.33333334],\n",
      "       [0.33333334, 0.33333334, 0.33333334],\n",
      "       [0.33333334, 0.33333334, 0.33333334],\n",
      "       [0.33333334, 0.33333334, 0.33333334],\n",
      "       [0.33333334, 0.33333334, 0.33333334],\n",
      "       [0.33333334, 0.33333334, 0.33333334],\n",
      "       [0.33333334, 0.33333334, 0.33333334],\n",
      "       [0.33333334, 0.33333334, 0.33333334]], dtype=float32))\n"
     ]
    }
   ],
   "source": [
    "# Generic: A Modular Multi-Pipeline Framework for Probability Fusion Ensembles\n",
    "# Specific: Cross-Lingual Sentiment Analysis with Probability Fusion Ensembles: A Modular Multi-Pipeline Framework for Low-Resource Languages\n",
    "\n",
    "import os\n",
    "import pandas as pd\n",
    "import pprint\n",
    "\n",
    "from pathlib import Path\n",
    "from transformers import pipeline\n",
    "\n",
    "from src.config import *\n",
    "from src.metrics import evaluate_pipe\n",
    "from src import (\n",
    "    context,\n",
    "    helper,\n",
    "    sentiment, \n",
    "    utility, \n",
    ")\n",
    "\n",
    "os.environ[\"MAMBA_USE_MAMBAPY\"] = MambaBackend.FORCE_CUDA\n",
    "os.environ[\"TOKENIZERS_PARALLELISM\"] = \"false\"\n",
    "helper.list_config()\n",
    "\n",
    "if AppConfig.INFER:\n",
    "    sample_texts = [\n",
    "        \"Maganda ang serbisyo at mabilis ang delivery!\",\n",
    "        \"Sobrang pangit ng karanasan ko.\",\n",
    "        \"It was okay, nothing special.\",\n",
    "    ]\n",
    "    sentiment.infer(sample_texts, MambaConfig)\n",
    "    sentiment.infer(sample_texts, MBertConfig)\n",
    "else:\n",
    "    if AppConfig.ENSEMBLE:\n",
    "        temps  = [1.1, 0.9]     # example; learn these\n",
    "        weights = [0.4, 0.6]    # example; learn these\n",
    "        ens = sentiment.ensemble([MBertConfig, MambaConfig], temps, weights)\n",
    "        print(ens)\n",
    "    else:\n",
    "        #mbert_context = context.setup_pipeline(MBertConfig, require_translation = False)\n",
    "        #mbert_trainer = sentiment.train(mbert_context)\n",
    "\n",
    "        xlmr_context = context.setup_pipeline(XlmrConfig, require_translation = False)\n",
    "        xlmr_trainer = sentiment.train(xlmr_context)\n",
    "        \n",
    "        mamba_context = context.setup_pipeline(MambaConfig, require_translation = True)\n",
    "        mamba_trainer = sentiment.train(mamba_context)\n",
    "\n"
   ]
  },
  {
   "cell_type": "code",
   "execution_count": null,
   "id": "ec23443d-d1ea-4fbf-881c-c19bac11fdf7",
   "metadata": {},
   "outputs": [],
   "source": []
  },
  {
   "cell_type": "code",
   "execution_count": null,
   "id": "a2ec98d9-f2a5-4e89-b849-ea507e77570a",
   "metadata": {},
   "outputs": [],
   "source": []
  }
 ],
 "metadata": {
  "kernelspec": {
   "display_name": "Python 3 (ipykernel)",
   "language": "python",
   "name": "python3"
  },
  "language_info": {
   "codemirror_mode": {
    "name": "ipython",
    "version": 3
   },
   "file_extension": ".py",
   "mimetype": "text/x-python",
   "name": "python",
   "nbconvert_exporter": "python",
   "pygments_lexer": "ipython3",
   "version": "3.12.11"
  }
 },
 "nbformat": 4,
 "nbformat_minor": 5
}
