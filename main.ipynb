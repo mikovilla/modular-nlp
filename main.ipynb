{
 "cells": [
  {
   "cell_type": "code",
   "execution_count": 1,
   "id": "5112e5a6-b2ea-4f21-8cbf-764c7e1cff16",
   "metadata": {},
   "outputs": [
    {
     "name": "stderr",
     "output_type": "stream",
     "text": [
      "Some weights of XLMRobertaForSequenceClassification were not initialized from the model checkpoint at xlm-roberta-base and are newly initialized: ['classifier.dense.bias', 'classifier.dense.weight', 'classifier.out_proj.bias', 'classifier.out_proj.weight']\n",
      "You should probably TRAIN this model on a down-stream task to be able to use it for predictions and inference.\n"
     ]
    },
    {
     "data": {
      "application/vnd.jupyter.widget-view+json": {
       "model_id": "2750ef3a1a8046d281f934b9cea85993",
       "version_major": 2,
       "version_minor": 0
      },
      "text/plain": [
       "Map:   0%|          | 0/489 [00:00<?, ? examples/s]"
      ]
     },
     "metadata": {},
     "output_type": "display_data"
    },
    {
     "data": {
      "application/vnd.jupyter.widget-view+json": {
       "model_id": "27082aeb487242ec80bbbe7827d9d0c8",
       "version_major": 2,
       "version_minor": 0
      },
      "text/plain": [
       "Map:   0%|          | 0/70 [00:00<?, ? examples/s]"
      ]
     },
     "metadata": {},
     "output_type": "display_data"
    },
    {
     "data": {
      "application/vnd.jupyter.widget-view+json": {
       "model_id": "4d7cf06c09544fe58544678921737eb7",
       "version_major": 2,
       "version_minor": 0
      },
      "text/plain": [
       "Map:   0%|          | 0/141 [00:00<?, ? examples/s]"
      ]
     },
     "metadata": {},
     "output_type": "display_data"
    },
    {
     "name": "stdout",
     "output_type": "stream",
     "text": [
      "{'dataloader_num_workers': 1, 'eval_strategy': 'epoch', 'fp16': True, 'gradient_accumulation_steps': 2, 'greater_is_better': True, 'learning_rate': 1e-05, 'load_best_model_at_end': True, 'logging_steps': 50, 'logging_strategy': 'steps', 'lr_scheduler_type': 'linear', 'max_grad_norm': 0.95, 'metric_for_best_model': 'eval_f1_macro', 'num_train_epochs': 5, 'output_dir': './xlmr_sentiment', 'per_device_eval_batch_size': 32, 'per_device_train_batch_size': 16, 'save_strategy': 'epoch', 'seed': 42, 'warmup_ratio': 0.07, 'weight_decay': 0.01}\n",
      "[OPTIMIZER] epoch_start=0 global_step=0 wrapped=AcceleratedOptimizer base=AdamW lr=0.0 id=131869061481056 hyperparams={'lr': 0.0, 'betas': (0.9, 0.999), 'eps': 1e-06, 'weight_decay': 0.01, 'amsgrad': False, 'maximize': False, 'foreach': None, 'capturable': False, 'differentiable': False, 'fused': None, 'decoupled_weight_decay': True, 'initial_lr': 2e-05}\n",
      "[OPTIMIZER_GROUP]   group[0] {'lr': 0.0, 'betas': (0.9, 0.999), 'eps': 1e-06, 'weight_decay': 0.01, 'amsgrad': False, 'maximize': False, 'foreach': None, 'capturable': False, 'differentiable': False, 'fused': None, 'decoupled_weight_decay': True, 'initial_lr': 2e-05}\n",
      "[SCHEDULER]   scheduler_last_lr=[0.0]\n",
      "[PARAMS]   params_total=278,048,262 params_trainable=278,048,262\n"
     ]
    },
    {
     "data": {
      "text/html": [
       "\n",
       "    <div>\n",
       "      \n",
       "      <progress value='35' max='35' style='width:300px; height:20px; vertical-align: middle;'></progress>\n",
       "      [35/35 01:52, Epoch 5/5]\n",
       "    </div>\n",
       "    <table border=\"1\" class=\"dataframe\">\n",
       "  <thead>\n",
       " <tr style=\"text-align: left;\">\n",
       "      <th>Epoch</th>\n",
       "      <th>Training Loss</th>\n",
       "      <th>Validation Loss</th>\n",
       "      <th>Accuracy</th>\n",
       "      <th>F1 Macro</th>\n",
       "      <th>Precision Macro</th>\n",
       "      <th>Recall Macro</th>\n",
       "      <th>Mse</th>\n",
       "      <th>Sse</th>\n",
       "    </tr>\n",
       "  </thead>\n",
       "  <tbody>\n",
       "    <tr>\n",
       "      <td>1</td>\n",
       "      <td>No log</td>\n",
       "      <td>1.765995</td>\n",
       "      <td>0.400000</td>\n",
       "      <td>0.190476</td>\n",
       "      <td>0.133333</td>\n",
       "      <td>0.333333</td>\n",
       "      <td>0.137369</td>\n",
       "      <td>4.121074</td>\n",
       "    </tr>\n",
       "    <tr>\n",
       "      <td>2</td>\n",
       "      <td>No log</td>\n",
       "      <td>1.316810</td>\n",
       "      <td>0.366667</td>\n",
       "      <td>0.286184</td>\n",
       "      <td>0.291925</td>\n",
       "      <td>0.370370</td>\n",
       "      <td>0.115599</td>\n",
       "      <td>3.467957</td>\n",
       "    </tr>\n",
       "    <tr>\n",
       "      <td>3</td>\n",
       "      <td>No log</td>\n",
       "      <td>1.303072</td>\n",
       "      <td>0.333333</td>\n",
       "      <td>0.254902</td>\n",
       "      <td>0.293333</td>\n",
       "      <td>0.342593</td>\n",
       "      <td>0.115133</td>\n",
       "      <td>3.453988</td>\n",
       "    </tr>\n",
       "    <tr>\n",
       "      <td>4</td>\n",
       "      <td>No log</td>\n",
       "      <td>1.284785</td>\n",
       "      <td>0.366667</td>\n",
       "      <td>0.277381</td>\n",
       "      <td>0.352564</td>\n",
       "      <td>0.379630</td>\n",
       "      <td>0.114460</td>\n",
       "      <td>3.433786</td>\n",
       "    </tr>\n",
       "    <tr>\n",
       "      <td>5</td>\n",
       "      <td>No log</td>\n",
       "      <td>1.277501</td>\n",
       "      <td>0.266667</td>\n",
       "      <td>0.140351</td>\n",
       "      <td>0.091954</td>\n",
       "      <td>0.296296</td>\n",
       "      <td>0.114132</td>\n",
       "      <td>3.423951</td>\n",
       "    </tr>\n",
       "  </tbody>\n",
       "</table><p>"
      ],
      "text/plain": [
       "<IPython.core.display.HTML object>"
      ]
     },
     "metadata": {},
     "output_type": "display_data"
    },
    {
     "name": "stdout",
     "output_type": "stream",
     "text": [
      "[TRAINING_PERFORMANCE] epoch=1.0 tokens=0 time=2.41s tok/s=0.0 ex/s=0.00 peak_mem=5.20GiB lr=1.81e-05\n",
      "[EVALUATION_PERFORMANCE] tokens=8192 time=0.06s tok/s=143663.0 ex/s=1122.37\n",
      "[EVALUATION_PERFORMANCE] accuracy=0.4000 cost=$0.00 accuracy_per_$=268.25\n",
      "[OPTIMIZER] epoch_start=1.0 global_step=7 wrapped=AcceleratedOptimizer base=AdamW lr=1.8125e-05 id=131869061481056 hyperparams={'lr': 1.8125e-05, 'betas': (0.9, 0.999), 'eps': 1e-06, 'weight_decay': 0.01, 'amsgrad': False, 'maximize': False, 'foreach': None, 'capturable': False, 'differentiable': False, 'fused': None, 'decoupled_weight_decay': True, 'initial_lr': 2e-05}\n",
      "[OPTIMIZER_GROUP]   group[0] {'lr': 1.8125e-05, 'betas': (0.9, 0.999), 'eps': 1e-06, 'weight_decay': 0.01, 'amsgrad': False, 'maximize': False, 'foreach': None, 'capturable': False, 'differentiable': False, 'fused': None, 'decoupled_weight_decay': True, 'initial_lr': 2e-05}\n",
      "[SCHEDULER]   scheduler_last_lr=[1.8125e-05]\n",
      "[PARAMS]   params_total=278,048,262 params_trainable=278,048,262\n",
      "Switching optimizer to SGD right after epoch 2 (next epoch will print SGD in your debug)\n",
      "[OPTIMIZER_SWITCH] base=SGD lr=0.0001\n",
      "[TRAINING_PERFORMANCE] epoch=2.0 tokens=0 time=1.90s tok/s=0.0 ex/s=0.00 peak_mem=5.20GiB lr=1.38e-05\n",
      "[EVALUATION_PERFORMANCE] tokens=8192 time=0.04s tok/s=223437.9 ex/s=1745.61\n",
      "[EVALUATION_PERFORMANCE] accuracy=0.3667 cost=$0.02 accuracy_per_$=21.60\n",
      "[OPTIMIZER] epoch_start=2.0 global_step=14 wrapped=AcceleratedOptimizer base=SGD lr=0.0001 id=131869062824304 hyperparams={'lr': 0.0001, 'momentum': 0.95, 'dampening': 0, 'weight_decay': 0.01, 'nesterov': True, 'maximize': False, 'foreach': None, 'differentiable': False, 'fused': None}\n",
      "[OPTIMIZER_GROUP]   group[0] {'lr': 0.0001, 'momentum': 0.95, 'dampening': 0, 'weight_decay': 0.01, 'nesterov': True, 'maximize': False, 'foreach': None, 'differentiable': False, 'fused': None}\n",
      "[SCHEDULER]   scheduler_last_lr=[1.375e-05]\n",
      "[PARAMS]   params_total=278,048,262 params_trainable=278,048,262\n",
      "[TRAINING_PERFORMANCE] epoch=3.0 tokens=0 time=1.96s tok/s=0.0 ex/s=0.00 peak_mem=6.24GiB lr=1.00e-04\n",
      "[EVALUATION_PERFORMANCE] tokens=8192 time=0.04s tok/s=228426.2 ex/s=1784.58\n",
      "[EVALUATION_PERFORMANCE] accuracy=0.3333 cost=$0.02 accuracy_per_$=14.34\n",
      "[OPTIMIZER] epoch_start=3.0 global_step=21 wrapped=AcceleratedOptimizer base=SGD lr=0.0001 id=131869062824304 hyperparams={'lr': 0.0001, 'momentum': 0.95, 'dampening': 0, 'weight_decay': 0.01, 'nesterov': True, 'maximize': False, 'foreach': None, 'differentiable': False, 'fused': None}\n",
      "[OPTIMIZER_GROUP]   group[0] {'lr': 0.0001, 'momentum': 0.95, 'dampening': 0, 'weight_decay': 0.01, 'nesterov': True, 'maximize': False, 'foreach': None, 'differentiable': False, 'fused': None}\n",
      "[SCHEDULER]   scheduler_last_lr=[1e-05]\n",
      "[PARAMS]   params_total=278,048,262 params_trainable=278,048,262\n",
      "[TRAINING_PERFORMANCE] epoch=4.0 tokens=0 time=1.66s tok/s=0.0 ex/s=0.00 peak_mem=6.24GiB lr=1.00e-04\n",
      "[EVALUATION_PERFORMANCE] tokens=8192 time=0.04s tok/s=186909.0 ex/s=1460.23\n",
      "[EVALUATION_PERFORMANCE] accuracy=0.3667 cost=$0.03 accuracy_per_$=10.99\n",
      "[OPTIMIZER] epoch_start=4.0 global_step=28 wrapped=AcceleratedOptimizer base=SGD lr=0.0001 id=131869062824304 hyperparams={'lr': 0.0001, 'momentum': 0.95, 'dampening': 0, 'weight_decay': 0.01, 'nesterov': True, 'maximize': False, 'foreach': None, 'differentiable': False, 'fused': None}\n",
      "[OPTIMIZER_GROUP]   group[0] {'lr': 0.0001, 'momentum': 0.95, 'dampening': 0, 'weight_decay': 0.01, 'nesterov': True, 'maximize': False, 'foreach': None, 'differentiable': False, 'fused': None}\n",
      "[SCHEDULER]   scheduler_last_lr=[5.625e-06]\n",
      "[PARAMS]   params_total=278,048,262 params_trainable=278,048,262\n",
      "[TRAINING_PERFORMANCE] epoch=5.0 tokens=0 time=1.66s tok/s=0.0 ex/s=0.00 peak_mem=6.24GiB lr=1.00e-04\n",
      "[EVALUATION_PERFORMANCE] tokens=8192 time=0.03s tok/s=242342.9 ex/s=1893.30\n",
      "[EVALUATION_PERFORMANCE] accuracy=0.2667 cost=$0.04 accuracy_per_$=6.04\n"
     ]
    },
    {
     "data": {
      "text/html": [
       "\n",
       "    <div>\n",
       "      \n",
       "      <progress value='2' max='2' style='width:300px; height:20px; vertical-align: middle;'></progress>\n",
       "      [2/2 00:00]\n",
       "    </div>\n",
       "    "
      ],
      "text/plain": [
       "<IPython.core.display.HTML object>"
      ]
     },
     "metadata": {},
     "output_type": "display_data"
    },
    {
     "name": "stdout",
     "output_type": "stream",
     "text": [
      "[EVALUATION_PERFORMANCE] tokens=16384 time=0.08s tok/s=201727.9 ex/s=1576.00\n",
      "[EVALUATION_PERFORMANCE] accuracy=0.4194 cost=$0.06 accuracy_per_$=7.13\n",
      "\n",
      "### XLM-ROBERTA-BASE EVALUATION METRICS ###\n",
      "{'epoch': 5.0,\n",
      " 'eval_accuracy': 0.41935483870967744,\n",
      " 'eval_f1_macro': 0.328404856352927,\n",
      " 'eval_loss': 1.3171031475067139,\n",
      " 'eval_mse': 0.11516861874726973,\n",
      " 'eval_precision_macro': 0.29848484848484846,\n",
      " 'eval_recall_macro': 0.4056140350877193,\n",
      " 'eval_runtime': 0.1782,\n",
      " 'eval_samples_per_second': 348.007,\n",
      " 'eval_sse': 7.140454362330724,\n",
      " 'eval_steps_per_second': 11.226}\n"
     ]
    },
    {
     "data": {
      "image/png": "[encoded data removed]",
      "text/plain": [
       "<Figure size 640x480 with 1 Axes>"
      ]
     },
     "metadata": {},
     "output_type": "display_data"
    },
    {
     "data": {
      "application/vnd.jupyter.widget-view+json": {
       "model_id": "a3681d2fb67a41b183ce61b902c1842f",
       "version_major": 2,
       "version_minor": 0
      },
      "text/plain": [
       "Saving the dataset (0/1 shards):   0%|          | 0/70 [00:00<?, ? examples/s]"
      ]
     },
     "metadata": {},
     "output_type": "display_data"
    },
    {
     "data": {
      "application/vnd.jupyter.widget-view+json": {
       "model_id": "c5e13858f9aa40c1884a71ca4fe961f0",
       "version_major": 2,
       "version_minor": 0
      },
      "text/plain": [
       "Saving the dataset (0/1 shards):   0%|          | 0/489 [00:00<?, ? examples/s]"
      ]
     },
     "metadata": {},
     "output_type": "display_data"
    },
    {
     "data": {
      "application/vnd.jupyter.widget-view+json": {
       "model_id": "9c1c724fdfb143d3abf6eacac84bb4d2",
       "version_major": 2,
       "version_minor": 0
      },
      "text/plain": [
       "Saving the dataset (0/1 shards):   0%|          | 0/141 [00:00<?, ? examples/s]"
      ]
     },
     "metadata": {},
     "output_type": "display_data"
    }
   ],
   "source": [
    "# Generic: A Modular Multi-Pipeline Framework for Probability Fusion Ensembles\n",
    "# Specific: Cross-Lingual Sentiment Analysis with Probability Fusion Ensembles: A Modular Multi-Pipeline Framework for Low-Resource Languages\n",
    "\n",
    "import os\n",
    "import pandas as pd\n",
    "import pprint\n",
    "\n",
    "from pathlib import Path\n",
    "from transformers import pipeline\n",
    "\n",
    "from src.config import *\n",
    "from src.metrics import evaluate_pipe\n",
    "from src import (\n",
    "    context,\n",
    "    helper,\n",
    "    sentiment, \n",
    "    utility, \n",
    ")\n",
    "\n",
    "os.environ[\"TOKENIZERS_PARALLELISM\"] = \"false\"\n",
    "helper.list_config()\n",
    "\n",
    "if App.HAS_GPU:\n",
    "    os.environ[\"MAMBA_USE_MAMBAPY\"] = Mamba.FORCE_CUDA\n",
    "    os.environ[\"CUDA_LAUNCH_BLOCKING\"] = \"1\"\n",
    "\n",
    "if App.ACTION == \"INFER\":\n",
    "    sample_texts = [\n",
    "        \"Maganda ang serbisyo at mabilis ang delivery!\",\n",
    "        \"Masama ang pakiramdam ko.\",\n",
    "        \"Hindi ito madali.\",\n",
    "        \"Sakto lang.\",\n",
    "        \"Sobrang pangit ng karanasan ko.\",\n",
    "        \"Hindi ito maganda\",\n",
    "        \"It was okay, nothing special.\",\n",
    "    ]\n",
    "    sentiment.infer(sample_texts, MBert)\n",
    "elif App.ACTION == \"ENSEMBLE\":\n",
    "        temps  = [1.1, 0.9]\n",
    "        weights = [0.4, 0.6]\n",
    "        ens = sentiment.ensemble([MBert, Mamba], temps, weights)\n",
    "        print(ens)\n",
    "elif App.ACTION == \"TRAIN\":\n",
    "    #mbert_context = context.setup_pipeline(MBert, require_translation = False)\n",
    "    #mbert_trainer = sentiment.train(mbert_context)\n",
    "\n",
    "    xlmr_context = context.setup_pipeline(Xlmr, require_translation = False)\n",
    "    xlmr_trainer = sentiment.train(xlmr_context)\n",
    "    \n",
    "    #mamba_context = context.setup_pipeline(Mamba, require_translation = True)\n",
    "    #mamba_trainer = sentiment.train(mamba_context)\n",
    "else:\n",
    "    raise ValueError(\"Invalid action.\")\n",
    "\n"
   ]
  },
  {
   "cell_type": "code",
   "execution_count": null,
   "id": "99ed19d8-c684-4207-ae1d-2b9ebe0bb426",
   "metadata": {},
   "outputs": [],
   "source": []
  }
 ],
 "metadata": {
  "kernelspec": {
   "display_name": "Python 3 (ipykernel)",
   "language": "python",
   "name": "python3"
  },
  "language_info": {
   "codemirror_mode": {
    "name": "ipython",
    "version": 3
   },
   "file_extension": ".py",
   "mimetype": "text/x-python",
   "name": "python",
   "nbconvert_exporter": "python",
   "pygments_lexer": "ipython3",
   "version": "3.12.11"
  }
 },
 "nbformat": 4,
 "nbformat_minor": 5
}
