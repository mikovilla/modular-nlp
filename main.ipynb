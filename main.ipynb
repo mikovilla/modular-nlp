{
 "cells": [
  {
   "cell_type": "code",
   "execution_count": 1,
   "id": "5112e5a6-b2ea-4f21-8cbf-764c7e1cff16",
   "metadata": {},
   "outputs": [
    {
     "name": "stderr",
     "output_type": "stream",
     "text": [
      "/home/miko/miniconda/envs/mv_nlp/lib/python3.12/site-packages/tqdm/auto.py:21: TqdmWarning: IProgress not found. Please update jupyter and ipywidgets. See https://ipywidgets.readthedocs.io/en/stable/user_install.html\n",
      "  from .autonotebook import tqdm as notebook_tqdm\n",
      "Map: 100%|█████████████████████████████████████████████████████████████████████████████| 69/69 [00:00<00:00, 9256.88 examples/s]\n",
      "Map: 100%|█████████████████████████████████████████████████████████████████████████████| 10/10 [00:00<00:00, 4279.03 examples/s]\n",
      "Map: 100%|█████████████████████████████████████████████████████████████████████████████| 21/21 [00:00<00:00, 8185.15 examples/s]\n",
      "Some weights of BertForSequenceClassification were not initialized from the model checkpoint at bert-base-multilingual-cased and are newly initialized: ['classifier.bias', 'classifier.weight']\n",
      "You should probably TRAIN this model on a down-stream task to be able to use it for predictions and inference.\n",
      "/mnt/c/Users/Miko/.dev/xl_nlp/src/overrides.py:7: FutureWarning: `tokenizer` is deprecated and will be removed in version 5.0.0 for `WeightedLossTrainer.__init__`. Use `processing_class` instead.\n",
      "  super().__init__(*args, **kwargs)\n"
     ]
    },
    {
     "data": {
      "text/html": [
       "\n",
       "    <div>\n",
       "      \n",
       "      <progress value='2' max='2' style='width:300px; height:20px; vertical-align: middle;'></progress>\n",
       "      [2/2 00:28, Epoch 1/1]\n",
       "    </div>\n",
       "    <table border=\"1\" class=\"dataframe\">\n",
       "  <thead>\n",
       " <tr style=\"text-align: left;\">\n",
       "      <th>Epoch</th>\n",
       "      <th>Training Loss</th>\n",
       "      <th>Validation Loss</th>\n",
       "      <th>Accuracy</th>\n",
       "      <th>F1 Macro</th>\n",
       "      <th>Precision Macro</th>\n",
       "      <th>Recall Macro</th>\n",
       "    </tr>\n",
       "  </thead>\n",
       "  <tbody>\n",
       "    <tr>\n",
       "      <td>1</td>\n",
       "      <td>No log</td>\n",
       "      <td>1.079973</td>\n",
       "      <td>0.400000</td>\n",
       "      <td>0.292929</td>\n",
       "      <td>0.291667</td>\n",
       "      <td>0.416667</td>\n",
       "    </tr>\n",
       "  </tbody>\n",
       "</table><p>"
      ],
      "text/plain": [
       "<IPython.core.display.HTML object>"
      ]
     },
     "metadata": {},
     "output_type": "display_data"
    },
    {
     "data": {
      "text/html": [
       "\n",
       "    <div>\n",
       "      \n",
       "      <progress value='1' max='1' style='width:300px; height:20px; vertical-align: middle;'></progress>\n",
       "      [1/1 : < :]\n",
       "    </div>\n",
       "    "
      ],
      "text/plain": [
       "<IPython.core.display.HTML object>"
      ]
     },
     "metadata": {},
     "output_type": "display_data"
    },
    {
     "name": "stdout",
     "output_type": "stream",
     "text": [
      "\n",
      "### EVALUATION METRICS ###\n",
      "{'epoch': 1.0,\n",
      " 'eval_accuracy': 0.3333333333333333,\n",
      " 'eval_f1_macro': 0.25555555555555554,\n",
      " 'eval_loss': 1.0849825143814087,\n",
      " 'eval_precision_macro': 0.23015873015873015,\n",
      " 'eval_recall_macro': 0.35185185185185186,\n",
      " 'eval_runtime': 0.1258,\n",
      " 'eval_samples_per_second': 166.918,\n",
      " 'eval_steps_per_second': 7.948}\n"
     ]
    },
    {
     "name": "stderr",
     "output_type": "stream",
     "text": [
      "Trainer.tokenizer is now deprecated. You should use Trainer.processing_class instead.\n",
      "Device set to use cuda:0\n"
     ]
    },
    {
     "name": "stdout",
     "output_type": "stream",
     "text": [
      "\n",
      "### PIPELINE METRICS ###\n",
      "{'accuracy': 0.3333333333333333,\n",
      " 'f1_macro': 0.25555555555555554,\n",
      " 'report': '              precision    recall  f1-score   support\\n'\n",
      "           '\\n'\n",
      "           '           0      0.000     0.000     0.000         6\\n'\n",
      "           '           1      0.357     0.833     0.500         6\\n'\n",
      "           '           2      0.333     0.222     0.267         9\\n'\n",
      "           '\\n'\n",
      "           '    accuracy                          0.333        21\\n'\n",
      "           '   macro avg      0.230     0.352     0.256        21\\n'\n",
      "           'weighted avg      0.245     0.333     0.257        21\\n'}\n"
     ]
    },
    {
     "name": "stderr",
     "output_type": "stream",
     "text": [
      "/home/miko/miniconda/envs/mv_nlp/lib/python3.12/site-packages/transformers/pipelines/text_classification.py:111: UserWarning: `return_all_scores` is now deprecated,  if want a similar functionality use `top_k=None` instead of `return_all_scores=True` or `top_k=1` instead of `return_all_scores=False`.\n",
      "  warnings.warn(\n"
     ]
    }
   ],
   "source": [
    "import os\n",
    "import pandas as pd\n",
    "import pprint\n",
    "\n",
    "from pathlib import Path\n",
    "from transformers import pipeline\n",
    "\n",
    "from src import sentiment, helper, utility, context\n",
    "from src.config import *\n",
    "from src.metrics import evaluate_pipe\n",
    "\n",
    "os.environ[\"TOKENIZERS_PARALLELISM\"] = \"false\"\n",
    "helper.list_config()\n",
    "\n",
    "jsonl = helper.read_jsonl_as_string(Path(\"miko.jsonl\"))\n",
    "train_ds, val_ds, test_ds, label2id, id2label = utility.load_split_dataset(jsonl)  # load again, un-mapped\n",
    "texts = helper.to_list_str(test_ds[SharedConfig.TEXT_COL])\n",
    "labels = list(test_ds[SharedConfig.LABEL_COL])\n",
    "\n",
    "modelConfig = MBertConfig\n",
    "require_translation = False\n",
    "\n",
    "context = context.setup_pipeline(modelConfig, require_translation)\n",
    "\n",
    "trainer = sentiment.train(context)\n",
    "pipe = pipeline(\n",
    "    \"text-classification\", \n",
    "    model=trainer.model, \n",
    "    tokenizer=trainer.tokenizer, \n",
    "    return_all_scores=True,\n",
    "    device=AppConfig.DEVICE\n",
    ")\n",
    "metrics = evaluate_pipe(pipe, texts, labels, id2label=trainer.model.config.id2label)\n",
    "helper.print_header(\"pipeline metrics\")\n",
    "pprint.pprint(metrics)\n",
    "\n",
    "if AppConfig.INFER_SAMPLE:\n",
    "    sample_texts = [\n",
    "        \"Maganda ang serbisyo at mabilis ang delivery!\"\n",
    "        \"Sobrang pangit ng karanasan ko.\",\n",
    "        \"It was okay, nothing special.\",\n",
    "    ]\n",
    "    sentiment.infer(sample_texts, trainer.tokenizer, trainer.model)\n"
   ]
  },
  {
   "cell_type": "code",
   "execution_count": null,
   "id": "ff335217-8f00-413e-aacf-f6ecde2c1e5d",
   "metadata": {},
   "outputs": [],
   "source": []
  }
 ],
 "metadata": {
  "kernelspec": {
   "display_name": "Python 3 (ipykernel)",
   "language": "python",
   "name": "python3"
  },
  "language_info": {
   "codemirror_mode": {
    "name": "ipython",
    "version": 3
   },
   "file_extension": ".py",
   "mimetype": "text/x-python",
   "name": "python",
   "nbconvert_exporter": "python",
   "pygments_lexer": "ipython3",
   "version": "3.12.11"
  }
 },
 "nbformat": 4,
 "nbformat_minor": 5
}
